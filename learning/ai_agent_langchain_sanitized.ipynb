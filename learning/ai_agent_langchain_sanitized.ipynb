{
 "cells": [
  {
   "cell_type": "code",
   "execution_count": null,
   "id": "682d4748",
   "metadata": {},
   "outputs": [],
   "source": [
    "import os\n",
    "# Removed hard-coded OPENAI_API_KEY for privacy. Set in .env or environment variables.\n",
    "# os.environ[\"OPENAI_API_KEY\"] = \"<REDACTED>\"\n",
    "# os.environ[\"OPENAI_API_BASE\"] = \"https://openrouter.ai/api/v1\""
   ]
  }
 ],
 "metadata": {
  "language_info": {
   "name": "python"
  }
 },
 "nbformat": 4,
 "nbformat_minor": 5
}

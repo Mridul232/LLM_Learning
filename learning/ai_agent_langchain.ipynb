{
  "nbformat": 4,
  "nbformat_minor": 0,
  "metadata": {
    "colab": {
      "provenance": [],
      "gpuType": "T4"
    },
    "kernelspec": {
      "name": "python3",
      "display_name": "Python 3"
    },
    "language_info": {
      "name": "python"
    },
    "accelerator": "GPU"
  },
  "cells": [
    {
      "cell_type": "code",
      "execution_count": 90,
      "metadata": {
        "id": "k9J2JeYJNRyX"
      },
      "outputs": [],
      "source": [
        "import os\n",
        "os.environ[\"OPENAI_API_KEY\"] = \"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\"\n",
        "os.environ[\"OPENAI_API_BASE\"] = \"https://openrouter.ai/api/v1\""
      ]
    },
    {
      "cell_type": "code",
      "source": [
        "!pip install -q langchain-openai  langchain_community langchain_core requests==2.32.5 duckduckgo-search"
      ],
      "metadata": {
        "id": "iuWJFRQ5OXCD"
      },
      "execution_count": 91,
      "outputs": []
    },
    {
      "cell_type": "code",
      "source": [
        "!pip install -U ddgs"
      ],
      "metadata": {
        "colab": {
          "base_uri": "https://localhost:8080/"
        },
        "id": "yJx8XZf9RDIg",
        "outputId": "16417145-072e-46fc-806e-5d5f868c27a2"
      },
      "execution_count": 79,
      "outputs": [
        {
          "output_type": "stream",
          "name": "stdout",
          "text": [
            "Requirement already satisfied: ddgs in /usr/local/lib/python3.12/dist-packages (9.6.0)\n",
            "Requirement already satisfied: click>=8.1.8 in /usr/local/lib/python3.12/dist-packages (from ddgs) (8.3.0)\n",
            "Requirement already satisfied: primp>=0.15.0 in /usr/local/lib/python3.12/dist-packages (from ddgs) (0.15.0)\n",
            "Requirement already satisfied: lxml>=6.0.0 in /usr/local/lib/python3.12/dist-packages (from ddgs) (6.0.2)\n",
            "Requirement already satisfied: httpx>=0.28.1 in /usr/local/lib/python3.12/dist-packages (from httpx[brotli,http2,socks]>=0.28.1->ddgs) (0.28.1)\n",
            "Requirement already satisfied: anyio in /usr/local/lib/python3.12/dist-packages (from httpx>=0.28.1->httpx[brotli,http2,socks]>=0.28.1->ddgs) (4.11.0)\n",
            "Requirement already satisfied: certifi in /usr/local/lib/python3.12/dist-packages (from httpx>=0.28.1->httpx[brotli,http2,socks]>=0.28.1->ddgs) (2025.8.3)\n",
            "Requirement already satisfied: httpcore==1.* in /usr/local/lib/python3.12/dist-packages (from httpx>=0.28.1->httpx[brotli,http2,socks]>=0.28.1->ddgs) (1.0.9)\n",
            "Requirement already satisfied: idna in /usr/local/lib/python3.12/dist-packages (from httpx>=0.28.1->httpx[brotli,http2,socks]>=0.28.1->ddgs) (3.10)\n",
            "Requirement already satisfied: h11>=0.16 in /usr/local/lib/python3.12/dist-packages (from httpcore==1.*->httpx>=0.28.1->httpx[brotli,http2,socks]>=0.28.1->ddgs) (0.16.0)\n",
            "Requirement already satisfied: brotli in /usr/local/lib/python3.12/dist-packages (from httpx[brotli,http2,socks]>=0.28.1->ddgs) (1.1.0)\n",
            "Requirement already satisfied: h2<5,>=3 in /usr/local/lib/python3.12/dist-packages (from httpx[brotli,http2,socks]>=0.28.1->ddgs) (4.3.0)\n",
            "Requirement already satisfied: socksio==1.* in /usr/local/lib/python3.12/dist-packages (from httpx[brotli,http2,socks]>=0.28.1->ddgs) (1.0.0)\n",
            "Requirement already satisfied: hyperframe<7,>=6.1 in /usr/local/lib/python3.12/dist-packages (from h2<5,>=3->httpx[brotli,http2,socks]>=0.28.1->ddgs) (6.1.0)\n",
            "Requirement already satisfied: hpack<5,>=4.1 in /usr/local/lib/python3.12/dist-packages (from h2<5,>=3->httpx[brotli,http2,socks]>=0.28.1->ddgs) (4.1.0)\n",
            "Requirement already satisfied: sniffio>=1.1 in /usr/local/lib/python3.12/dist-packages (from anyio->httpx>=0.28.1->httpx[brotli,http2,socks]>=0.28.1->ddgs) (1.3.1)\n",
            "Requirement already satisfied: typing_extensions>=4.5 in /usr/local/lib/python3.12/dist-packages (from anyio->httpx>=0.28.1->httpx[brotli,http2,socks]>=0.28.1->ddgs) (4.15.0)\n"
          ]
        }
      ]
    },
    {
      "cell_type": "code",
      "source": [
        "from langchain.chat_models import ChatOpenAI\n",
        "from langchain_core.tools import tool\n",
        "import requests"
      ],
      "metadata": {
        "id": "I1zVHCgWOnCq"
      },
      "execution_count": 80,
      "outputs": []
    },
    {
      "cell_type": "code",
      "source": [
        "llm =ChatOpenAI(\n",
        "    model='gpt-4o-mini',\n",
        "    temperature=0.7\n",
        ")"
      ],
      "metadata": {
        "id": "QQpsH4O_P09N"
      },
      "execution_count": 81,
      "outputs": []
    },
    {
      "cell_type": "code",
      "source": [
        "from langchain_community.tools import DuckDuckGoSearchRun\n",
        "search_tool = DuckDuckGoSearchRun()"
      ],
      "metadata": {
        "id": "HxO52MUmQorz"
      },
      "execution_count": 82,
      "outputs": []
    },
    {
      "cell_type": "code",
      "source": [
        "@tool\n",
        "def get_weather_data(city:str)->str:\n",
        "  '''\n",
        "  this function fetch the current temperature of a city\n",
        "   '''\n",
        "  url=f'http://api.weatherapi.com/v1/current.json?key=24480d3b3df84407bde92325252606&q={city}'\n",
        "  response=requests.get(url)\n",
        "  return response.json()"
      ],
      "metadata": {
        "id": "FGZH-MjCP7o6"
      },
      "execution_count": 83,
      "outputs": []
    },
    {
      "cell_type": "code",
      "source": [
        "from langchain.agents import create_react_agent,AgentExecutor\n",
        "from langchain import hub"
      ],
      "metadata": {
        "id": "Zl1aouzgQcln"
      },
      "execution_count": 84,
      "outputs": []
    },
    {
      "cell_type": "code",
      "source": [
        "prompt=hub.pull('hwchase17/react')"
      ],
      "metadata": {
        "id": "VKJraKsJSKXC"
      },
      "execution_count": 85,
      "outputs": []
    },
    {
      "cell_type": "code",
      "source": [
        "agent=create_react_agent(\n",
        "    llm=llm,\n",
        "    tools=[search_tool , get_weather_data],\n",
        "    prompt=prompt\n",
        ")"
      ],
      "metadata": {
        "id": "Rg3eFIICSQS1"
      },
      "execution_count": 86,
      "outputs": []
    },
    {
      "cell_type": "code",
      "source": [
        "agent_executor=AgentExecutor(\n",
        "    agent=agent,\n",
        "    tools=[search_tool , get_weather_data],\n",
        "    verbose=True\n",
        ")\n"
      ],
      "metadata": {
        "id": "hk25oYsJSowE"
      },
      "execution_count": 87,
      "outputs": []
    },
    {
      "cell_type": "code",
      "source": [
        "response=agent_executor.invoke({\"input\":\"Find the capital of Uttar Pradesh, then find the  current weather condition of mathura\"})\n",
        "print(response)"
      ],
      "metadata": {
        "colab": {
          "base_uri": "https://localhost:8080/"
        },
        "id": "FKl2_RTjStQV",
        "outputId": "bf17703a-a395-4e39-f71d-317440bffeac"
      },
      "execution_count": 88,
      "outputs": [
        {
          "output_type": "stream",
          "name": "stdout",
          "text": [
            "\n",
            "\n",
            "\u001b[1m> Entering new AgentExecutor chain...\u001b[0m\n",
            "\u001b[32;1m\u001b[1;3mTo answer the question, I first need to find the capital of Uttar Pradesh. After obtaining that information, I will then look up the current weather conditions in Mathura. \n",
            "\n",
            "Action: duckduckgo_search  \n",
            "Action Input: \"capital of Uttar Pradesh\"  \u001b[0m\u001b[36;1m\u001b[1;3m6 Nov 2024 — Lucknow serves as the state capital , with Prayagraj being the judicial capital. It is divided into 18 divisions and 75 districts. Uttar Pradesh. State. 20 Feb 2025 — Lucknow, the capital of Uttar Pradesh , famed for its Nawabi era finesse and amazing food, is a unique mix of the ancient and the modern. It is home to ... The following outline is provided as an overview of and topical guide to Uttar Pradesh : Uttar Pradesh – most populous state in the Republic of India as well as the most populous country subdivision in the world. 29 May 2025 — The correct answer is Lucknow. Lucknow is the capital of Uttar Pradesh . Lucknow is situated on the bank of the Gomti river. Nicknames of Lucknow: 30 Dec 2024 — Lucknow is the capital city of Uttar Pradesh and Kanpur is its economic and industrial capital. The state is surrounded by the country of Nepal and ...\u001b[0m\u001b[32;1m\u001b[1;3mI have found that the capital of Uttar Pradesh is Lucknow. Now, I need to find the current weather conditions in Mathura.\n",
            "\n",
            "Action: get_weather_data  \n",
            "Action Input: \"Mathura\"  \u001b[0m\u001b[33;1m\u001b[1;3m{'location': {'name': 'Mathura', 'region': 'Uttar Pradesh', 'country': 'India', 'lat': 27.5, 'lon': 77.6833, 'tz_id': 'Asia/Kolkata', 'localtime_epoch': 1759834426, 'localtime': '2025-10-07 16:23'}, 'current': {'last_updated_epoch': 1759833900, 'last_updated': '2025-10-07 16:15', 'temp_c': 28.8, 'temp_f': 83.8, 'is_day': 1, 'condition': {'text': 'Patchy rain nearby', 'icon': '//cdn.weatherapi.com/weather/64x64/day/176.png', 'code': 1063}, 'wind_mph': 5.4, 'wind_kph': 8.6, 'wind_degree': 148, 'wind_dir': 'SSE', 'pressure_mb': 1007.0, 'pressure_in': 29.75, 'precip_mm': 0.03, 'precip_in': 0.0, 'humidity': 58, 'cloud': 87, 'feelslike_c': 30.6, 'feelslike_f': 87.0, 'windchill_c': 28.8, 'windchill_f': 83.8, 'heatindex_c': 30.6, 'heatindex_f': 87.0, 'dewpoint_c': 19.5, 'dewpoint_f': 67.2, 'vis_km': 10.0, 'vis_miles': 6.0, 'uv': 0.9, 'gust_mph': 9.0, 'gust_kph': 14.5}}\u001b[0m\u001b[32;1m\u001b[1;3mI have gathered all the necessary information. The capital of Uttar Pradesh is Lucknow, and the current weather condition in Mathura is 28.8°C with patchy rain nearby.\n",
            "\n",
            "Final Answer: The capital of Uttar Pradesh is Lucknow, and the current weather condition in Mathura is 28.8°C with patchy rain nearby.\u001b[0m\n",
            "\n",
            "\u001b[1m> Finished chain.\u001b[0m\n",
            "{'input': 'Find the capital of Uttar Pradesh, then find the  current weather condition of mathura', 'output': 'The capital of Uttar Pradesh is Lucknow, and the current weather condition in Mathura is 28.8°C with patchy rain nearby.'}\n"
          ]
        }
      ]
    },
    {
      "cell_type": "code",
      "source": [
        "response['output']"
      ],
      "metadata": {
        "colab": {
          "base_uri": "https://localhost:8080/",
          "height": 36
        },
        "id": "j15IZvWsS_fh",
        "outputId": "ec9d0868-d48b-4528-b30e-ffe7dde6a1bf"
      },
      "execution_count": 89,
      "outputs": [
        {
          "output_type": "execute_result",
          "data": {
            "text/plain": [
              "'The capital of Uttar Pradesh is Lucknow, and the current weather condition in Mathura is 28.8°C with patchy rain nearby.'"
            ],
            "application/vnd.google.colaboratory.intrinsic+json": {
              "type": "string"
            }
          },
          "metadata": {},
          "execution_count": 89
        }
      ]
    },
    {
      "cell_type": "code",
      "source": [],
      "metadata": {
        "id": "1jEQX-SoUDvS"
      },
      "execution_count": 89,
      "outputs": []
    }
  ]
}